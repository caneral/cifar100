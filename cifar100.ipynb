{
  "nbformat": 4,
  "nbformat_minor": 0,
  "metadata": {
    "colab": {
      "name": "cifar100.ipynb",
      "provenance": [],
      "collapsed_sections": [],
      "authorship_tag": "ABX9TyPEvQ7kdNCKdhYGIDgCY1N9",
      "include_colab_link": true
    },
    "kernelspec": {
      "name": "python3",
      "display_name": "Python 3"
    }
  },
  "cells": [
    {
      "cell_type": "markdown",
      "metadata": {
        "id": "view-in-github",
        "colab_type": "text"
      },
      "source": [
        "<a href=\"https://colab.research.google.com/github/caneral/cifar100/blob/main/cifar100.ipynb\" target=\"_parent\"><img src=\"https://colab.research.google.com/assets/colab-badge.svg\" alt=\"Open In Colab\"/></a>"
      ]
    },
    {
      "cell_type": "markdown",
      "metadata": {
        "id": "0kh19Y8WrKhX"
      },
      "source": [
        "CANER AL\r\n",
        "B181200350"
      ]
    },
    {
      "cell_type": "code",
      "metadata": {
        "id": "zolQ2k6siaZS"
      },
      "source": [
        "import os\r\n",
        "import matplotlib.pyplot as plt\r\n",
        "import numpy as np\r\n",
        "from keras.datasets import cifar100"
      ],
      "execution_count": null,
      "outputs": []
    },
    {
      "cell_type": "code",
      "metadata": {
        "colab": {
          "base_uri": "https://localhost:8080/"
        },
        "id": "8x34q_U9irKW",
        "outputId": "fd87441a-f0db-41d5-ef22-a9939d17e901"
      },
      "source": [
        "(x_train,y_train),(x_test, y_test)=cifar100.load_data()"
      ],
      "execution_count": null,
      "outputs": [
        {
          "output_type": "stream",
          "text": [
            "Downloading data from https://www.cs.toronto.edu/~kriz/cifar-100-python.tar.gz\n",
            "169009152/169001437 [==============================] - 4s 0us/step\n"
          ],
          "name": "stdout"
        }
      ]
    },
    {
      "cell_type": "code",
      "metadata": {
        "id": "TwZ0qMama3-X"
      },
      "source": [
        "#Veri setini koyacağımız dizini oluştur.\r\n",
        "base_dir = '/content/dataset'\r\n",
        "os.mkdir(base_dir)\r\n",
        "\r\n",
        "#Eğitim setinin dizinini oluştur.\r\n",
        "train_dir = os.path.join(base_dir, 'train')\r\n",
        "os.mkdir(train_dir)\r\n",
        "\r\n",
        "#Test setinin dizinini oluştur.\r\n",
        "test_dir = os.path.join(base_dir, 'test')\r\n",
        "os.mkdir(test_dir)"
      ],
      "execution_count": null,
      "outputs": []
    },
    {
      "cell_type": "markdown",
      "metadata": {
        "id": "bvhSbxfLcRto"
      },
      "source": [
        "# Eğitim Seti Dizini Oluşturma"
      ]
    },
    {
      "cell_type": "code",
      "metadata": {
        "id": "hiLLTwokcVC2"
      },
      "source": [
        "#Bisiklet eğitim setinin dizinini oluştur.\r\n",
        "train_bicycle_dir = os.path.join(train_dir, 'bicycle')\r\n",
        "os.mkdir(train_bicycle_dir)\r\n",
        "\r\n",
        "#Timsah eğitim setinin dizinini oluştur.\r\n",
        "train_crocodile_dir = os.path.join(train_dir, 'crocodile')\r\n",
        "os.mkdir(train_crocodile_dir)\r\n",
        "\r\n",
        "#Orkide eğitim setinin dizinini oluştur.\r\n",
        "train_orchid_dir = os.path.join(train_dir, 'orchid')\r\n",
        "os.mkdir(train_orchid_dir)\r\n",
        "\r\n",
        "#Gelincik eğitim setinin dizinini oluştur.\r\n",
        "train_poppy_dir = os.path.join(train_dir, 'poppy')\r\n",
        "os.mkdir(train_poppy_dir)\r\n",
        "\r\n",
        "#Salyangoz eğitim setinin dizinini oluştur.\r\n",
        "train_snail_dir = os.path.join(train_dir, 'snail')\r\n",
        "os.mkdir(train_snail_dir)\r\n",
        "\r\n",
        "#Balina eğitim setinin dizinini oluştur.\r\n",
        "train_whale_dir = os.path.join(train_dir, 'whale')\r\n",
        "os.mkdir(train_whale_dir)"
      ],
      "execution_count": null,
      "outputs": []
    },
    {
      "cell_type": "markdown",
      "metadata": {
        "id": "jAylr0OZd0-F"
      },
      "source": [
        "# Test Veri Seti Dizinini Oluşturma"
      ]
    },
    {
      "cell_type": "code",
      "metadata": {
        "id": "IRUAYOvfd6tp"
      },
      "source": [
        "#Bisiklet test setinin dizinini oluştur.\r\n",
        "test_bicycle_dir = os.path.join(test_dir, 'bicycle')\r\n",
        "os.mkdir(test_bicycle_dir)\r\n",
        "\r\n",
        "#Timsah test setinin dizinini oluştur.\r\n",
        "test_crocodile_dir = os.path.join(test_dir, 'crocodile')\r\n",
        "os.mkdir(test_crocodile_dir)\r\n",
        "\r\n",
        "#Orkide test setinin dizinini oluştur.\r\n",
        "test_orchid_dir = os.path.join(test_dir, 'orchid')\r\n",
        "os.mkdir(test_orchid_dir)\r\n",
        "\r\n",
        "#Gelincik test setinin dizinini oluştur.\r\n",
        "test_poppy_dir = os.path.join(test_dir, 'poppy')\r\n",
        "os.mkdir(test_poppy_dir)\r\n",
        "\r\n",
        "#Salyangoz test setinin dizinini oluştur.\r\n",
        "test_snail_dir = os.path.join(test_dir, 'snail')\r\n",
        "os.mkdir(test_snail_dir)\r\n",
        "\r\n",
        "#Balina test setinin dizinini oluştur.\r\n",
        "test_whale_dir = os.path.join(test_dir, 'whale')\r\n",
        "os.mkdir(test_whale_dir)"
      ],
      "execution_count": null,
      "outputs": []
    },
    {
      "cell_type": "markdown",
      "metadata": {
        "id": "BudNKgp0l4yH"
      },
      "source": [
        "# Eğitim Verilerini Kopyala"
      ]
    },
    {
      "cell_type": "code",
      "metadata": {
        "id": "0OdfAp6Vjy8i"
      },
      "source": [
        "for i in range(50000):\r\n",
        "  if int(y_train[i])==8:\r\n",
        "    path='/content/dataset/train/bicycle/'+str(i)+'.png'\r\n",
        "    plt.imsave(path,x_train[i])\r\n",
        "  if int(y_train[i])==27:\r\n",
        "    path='/content/dataset/train/crocodile/'+str(i)+'.png'\r\n",
        "    plt.imsave(path,x_train[i])\r\n",
        "  if int(y_train[i])==54:\r\n",
        "    path='/content/dataset/train/orchid/'+str(i)+'.png'\r\n",
        "    plt.imsave(path,x_train[i])\r\n",
        "  if int(y_train[i])==62:\r\n",
        "    path='/content/dataset/train/poppy/'+str(i)+'.png'\r\n",
        "    plt.imsave(path,x_train[i])\r\n",
        "  if int(y_train[i])==77:\r\n",
        "    path='/content/dataset/train/snail/'+str(i)+'.png'\r\n",
        "    plt.imsave(path,x_train[i])\r\n",
        "  if int(y_train[i])==95:\r\n",
        "    path='/content/dataset/train/whale/'+str(i)+'.png'\r\n",
        "    plt.imsave(path,x_train[i])"
      ],
      "execution_count": null,
      "outputs": []
    },
    {
      "cell_type": "markdown",
      "metadata": {
        "id": "M12cjAP6l8BX"
      },
      "source": [
        "# Test Verilerini Kopyala"
      ]
    },
    {
      "cell_type": "code",
      "metadata": {
        "id": "xp3s5130l-fb"
      },
      "source": [
        "for i in range(10000):\r\n",
        "  if int(y_test[i])==8:\r\n",
        "    path='/content/dataset/test/bicycle/'+str(i)+'.png'\r\n",
        "    plt.imsave(path,x_test[i])\r\n",
        "  if int(y_test[i])==27:\r\n",
        "    path='/content/dataset/test/crocodile/'+str(i)+'.png'\r\n",
        "    plt.imsave(path,x_test[i])\r\n",
        "  if int(y_test[i])==54:\r\n",
        "    path='/content/dataset/test/orchid/'+str(i)+'.png'\r\n",
        "    plt.imsave(path,x_test[i])\r\n",
        "  if int(y_test[i])==62:\r\n",
        "    path='/content/dataset/test/poppy/'+str(i)+'.png'\r\n",
        "    plt.imsave(path,x_test[i])\r\n",
        "  if int(y_test[i])==77:\r\n",
        "    path='/content/dataset/test/snail/'+str(i)+'.png'\r\n",
        "    plt.imsave(path,x_test[i])\r\n",
        "  if int(y_test[i])==95:\r\n",
        "    path='/content/dataset/test/whale/'+str(i)+'.png'\r\n",
        "    plt.imsave(path,x_test[i])"
      ],
      "execution_count": null,
      "outputs": []
    },
    {
      "cell_type": "code",
      "metadata": {
        "id": "R_3r-CdvmCvY"
      },
      "source": [
        "import keras\r\n",
        "from keras.preprocessing.image import ImageDataGenerator\r\n",
        "from keras import layers\r\n",
        "from keras import models\r\n",
        "import matplotlib.pyplot as plt\r\n",
        "from keras import optimizers"
      ],
      "execution_count": null,
      "outputs": []
    },
    {
      "cell_type": "markdown",
      "metadata": {
        "id": "GEC3-NHn9IXS"
      },
      "source": [
        "# Modeli İnşa Et"
      ]
    },
    {
      "cell_type": "code",
      "metadata": {
        "id": "WDhC0tMT9B4o"
      },
      "source": [
        "def model1():\r\n",
        "  model = models.Sequential()\r\n",
        "  model.add(layers.Conv2D(32,\r\n",
        "                   (3, 3),\r\n",
        "                   padding='same',\r\n",
        "                   activation='relu',\r\n",
        "                   input_shape=(32,32,3)))\r\n",
        "  model.add(layers.Conv2D(64, \r\n",
        "                   (3, 3),\r\n",
        "                   padding= 'same',\r\n",
        "                   activation='relu'))\r\n",
        "  model.add(layers.MaxPooling2D(2,2))\r\n",
        "  model.add(layers.Conv2D(128, \r\n",
        "                   (3, 3), \r\n",
        "                   padding= 'same',\r\n",
        "                   activation='relu'))\r\n",
        "  model.add(layers.Conv2D(256, \r\n",
        "                   (3, 3),\r\n",
        "                   activation='relu'))\r\n",
        "  model.add(layers.MaxPooling2D(2,2))\r\n",
        "\r\n",
        "  model.add(layers.Flatten())\r\n",
        "  model.add(layers.Dense(256,\r\n",
        "                         activation='relu'))\r\n",
        "  model.add(layers.Dense(6,\r\n",
        "                         activation='softmax'))\r\n",
        "  model.summary()\r\n",
        "  #Modelin derlenmesi\r\n",
        "  model.compile(loss='categorical_crossentropy',\r\n",
        "              optimizer=optimizers.RMSprop(lr=1e-4),\r\n",
        "              metrics=['acc'])\r\n",
        "  return model"
      ],
      "execution_count": null,
      "outputs": []
    },
    {
      "cell_type": "code",
      "metadata": {
        "colab": {
          "base_uri": "https://localhost:8080/"
        },
        "id": "vaLNenPPFCJJ",
        "outputId": "a04bb234-eee2-4eab-d1e7-9027ff1d3d22"
      },
      "source": [
        "model = model1()"
      ],
      "execution_count": null,
      "outputs": [
        {
          "output_type": "stream",
          "text": [
            "Model: \"sequential\"\n",
            "_________________________________________________________________\n",
            "Layer (type)                 Output Shape              Param #   \n",
            "=================================================================\n",
            "conv2d (Conv2D)              (None, 32, 32, 32)        896       \n",
            "_________________________________________________________________\n",
            "conv2d_1 (Conv2D)            (None, 32, 32, 64)        18496     \n",
            "_________________________________________________________________\n",
            "max_pooling2d (MaxPooling2D) (None, 16, 16, 64)        0         \n",
            "_________________________________________________________________\n",
            "conv2d_2 (Conv2D)            (None, 16, 16, 128)       73856     \n",
            "_________________________________________________________________\n",
            "conv2d_3 (Conv2D)            (None, 14, 14, 256)       295168    \n",
            "_________________________________________________________________\n",
            "max_pooling2d_1 (MaxPooling2 (None, 7, 7, 256)         0         \n",
            "_________________________________________________________________\n",
            "flatten (Flatten)            (None, 12544)             0         \n",
            "_________________________________________________________________\n",
            "dense (Dense)                (None, 256)               3211520   \n",
            "_________________________________________________________________\n",
            "dense_1 (Dense)              (None, 6)                 1542      \n",
            "=================================================================\n",
            "Total params: 3,601,478\n",
            "Trainable params: 3,601,478\n",
            "Non-trainable params: 0\n",
            "_________________________________________________________________\n"
          ],
          "name": "stdout"
        }
      ]
    },
    {
      "cell_type": "markdown",
      "metadata": {
        "id": "IAJVymCbDMCP"
      },
      "source": [
        "# Veri Ön İşleme\r\n",
        "Verileri ondalıklı sayı tipinde tensörlere dönüştürmemiz gerekiyor."
      ]
    },
    {
      "cell_type": "code",
      "metadata": {
        "colab": {
          "base_uri": "https://localhost:8080/"
        },
        "id": "PPyQCt_OCtTx",
        "outputId": "3a21bc6f-04a6-4fc3-acda-6a6a44d54744"
      },
      "source": [
        "train_datagen = ImageDataGenerator(rescale=1./255)#Tüm resimler 1/255'le ölçeklenir.\r\n",
        "test_datagen = ImageDataGenerator(rescale=1./255)\r\n",
        "\r\n",
        "\r\n",
        "train_dir = '/content/dataset/train'\r\n",
        "test_dir = '/content/dataset/test'\r\n",
        "\r\n",
        "train_generator =train_datagen.flow_from_directory(\r\n",
        "        train_dir,\r\n",
        "        target_size=(32,32),\r\n",
        "        batch_size=30,\r\n",
        "        class_mode='categorical')\r\n",
        "\r\n",
        "validation_generator =test_datagen.flow_from_directory(\r\n",
        "        test_dir,\r\n",
        "        target_size=(32,32),\r\n",
        "        batch_size=6,\r\n",
        "        class_mode='categorical')"
      ],
      "execution_count": null,
      "outputs": [
        {
          "output_type": "stream",
          "text": [
            "Found 3000 images belonging to 6 classes.\n",
            "Found 600 images belonging to 6 classes.\n"
          ],
          "name": "stdout"
        }
      ]
    },
    {
      "cell_type": "markdown",
      "metadata": {
        "id": "Cmu0QTDsElZb"
      },
      "source": [
        "# Modeli Eğit(1)"
      ]
    },
    {
      "cell_type": "code",
      "metadata": {
        "colab": {
          "base_uri": "https://localhost:8080/"
        },
        "id": "LZ_3OKqPEn8E",
        "outputId": "d062b26c-bdd0-495f-c70d-080bd273beab"
      },
      "source": [
        "history = model.fit_generator(\r\n",
        "    train_generator,\r\n",
        "    steps_per_epoch=100,\r\n",
        "    epochs=30,\r\n",
        "    validation_data=validation_generator,\r\n",
        "    validation_steps=50)"
      ],
      "execution_count": null,
      "outputs": [
        {
          "output_type": "stream",
          "text": [
            "/usr/local/lib/python3.6/dist-packages/tensorflow/python/keras/engine/training.py:1844: UserWarning: `Model.fit_generator` is deprecated and will be removed in a future version. Please use `Model.fit`, which supports generators.\n",
            "  warnings.warn('`Model.fit_generator` is deprecated and '\n"
          ],
          "name": "stderr"
        },
        {
          "output_type": "stream",
          "text": [
            "Epoch 1/30\n",
            "100/100 [==============================] - 46s 450ms/step - loss: 1.5361 - acc: 0.3457 - val_loss: 1.1255 - val_acc: 0.5967\n",
            "Epoch 2/30\n",
            "100/100 [==============================] - 45s 445ms/step - loss: 1.0772 - acc: 0.5876 - val_loss: 0.9904 - val_acc: 0.6533\n",
            "Epoch 3/30\n",
            "100/100 [==============================] - 45s 447ms/step - loss: 0.9739 - acc: 0.6344 - val_loss: 0.9767 - val_acc: 0.6600\n",
            "Epoch 4/30\n",
            "100/100 [==============================] - 45s 447ms/step - loss: 0.8853 - acc: 0.6598 - val_loss: 1.0439 - val_acc: 0.6033\n",
            "Epoch 5/30\n",
            "100/100 [==============================] - 45s 447ms/step - loss: 0.8015 - acc: 0.6945 - val_loss: 0.9509 - val_acc: 0.6467\n",
            "Epoch 6/30\n",
            "100/100 [==============================] - 45s 446ms/step - loss: 0.7260 - acc: 0.7305 - val_loss: 0.8203 - val_acc: 0.6900\n",
            "Epoch 7/30\n",
            "100/100 [==============================] - 45s 447ms/step - loss: 0.6671 - acc: 0.7575 - val_loss: 0.7376 - val_acc: 0.7600\n",
            "Epoch 8/30\n",
            "100/100 [==============================] - 45s 445ms/step - loss: 0.6081 - acc: 0.7712 - val_loss: 0.6806 - val_acc: 0.7700\n",
            "Epoch 9/30\n",
            "100/100 [==============================] - 44s 444ms/step - loss: 0.5637 - acc: 0.7885 - val_loss: 0.6547 - val_acc: 0.7800\n",
            "Epoch 10/30\n",
            "100/100 [==============================] - 45s 448ms/step - loss: 0.5415 - acc: 0.7888 - val_loss: 0.5919 - val_acc: 0.7833\n",
            "Epoch 11/30\n",
            "100/100 [==============================] - 45s 445ms/step - loss: 0.4975 - acc: 0.8104 - val_loss: 0.6986 - val_acc: 0.7467\n",
            "Epoch 12/30\n",
            "100/100 [==============================] - 44s 444ms/step - loss: 0.4606 - acc: 0.8343 - val_loss: 0.6846 - val_acc: 0.7633\n",
            "Epoch 13/30\n",
            "100/100 [==============================] - 44s 445ms/step - loss: 0.4374 - acc: 0.8468 - val_loss: 0.6694 - val_acc: 0.7967\n",
            "Epoch 14/30\n",
            "100/100 [==============================] - 44s 442ms/step - loss: 0.4049 - acc: 0.8460 - val_loss: 0.5426 - val_acc: 0.8233\n",
            "Epoch 15/30\n",
            "100/100 [==============================] - 44s 444ms/step - loss: 0.3826 - acc: 0.8665 - val_loss: 0.5551 - val_acc: 0.8400\n",
            "Epoch 16/30\n",
            "100/100 [==============================] - 44s 441ms/step - loss: 0.3663 - acc: 0.8677 - val_loss: 0.5786 - val_acc: 0.7867\n",
            "Epoch 17/30\n",
            "100/100 [==============================] - 45s 448ms/step - loss: 0.3369 - acc: 0.8734 - val_loss: 0.5669 - val_acc: 0.7867\n",
            "Epoch 18/30\n",
            "100/100 [==============================] - 45s 445ms/step - loss: 0.3155 - acc: 0.8846 - val_loss: 0.5376 - val_acc: 0.8200\n",
            "Epoch 19/30\n",
            "100/100 [==============================] - 45s 445ms/step - loss: 0.2805 - acc: 0.9074 - val_loss: 0.6953 - val_acc: 0.7767\n",
            "Epoch 20/30\n",
            "100/100 [==============================] - 44s 444ms/step - loss: 0.2806 - acc: 0.9081 - val_loss: 0.7638 - val_acc: 0.7533\n",
            "Epoch 21/30\n",
            "100/100 [==============================] - 44s 444ms/step - loss: 0.2451 - acc: 0.9199 - val_loss: 0.6508 - val_acc: 0.7800\n",
            "Epoch 22/30\n",
            "100/100 [==============================] - 44s 443ms/step - loss: 0.2284 - acc: 0.9190 - val_loss: 0.6892 - val_acc: 0.7967\n",
            "Epoch 23/30\n",
            "100/100 [==============================] - 44s 445ms/step - loss: 0.2095 - acc: 0.9304 - val_loss: 0.8002 - val_acc: 0.7833\n",
            "Epoch 24/30\n",
            "100/100 [==============================] - 45s 446ms/step - loss: 0.1802 - acc: 0.9456 - val_loss: 0.7188 - val_acc: 0.7967\n",
            "Epoch 25/30\n",
            "100/100 [==============================] - 45s 448ms/step - loss: 0.1527 - acc: 0.9500 - val_loss: 0.6136 - val_acc: 0.8233\n",
            "Epoch 26/30\n",
            "100/100 [==============================] - 44s 444ms/step - loss: 0.1546 - acc: 0.9529 - val_loss: 0.6500 - val_acc: 0.8333\n",
            "Epoch 27/30\n",
            "100/100 [==============================] - 45s 448ms/step - loss: 0.1403 - acc: 0.9542 - val_loss: 0.6522 - val_acc: 0.7967\n",
            "Epoch 28/30\n",
            "100/100 [==============================] - 45s 445ms/step - loss: 0.1277 - acc: 0.9590 - val_loss: 0.8233 - val_acc: 0.7833\n",
            "Epoch 29/30\n",
            "100/100 [==============================] - 45s 446ms/step - loss: 0.1103 - acc: 0.9649 - val_loss: 0.8478 - val_acc: 0.8167\n",
            "Epoch 30/30\n",
            "100/100 [==============================] - 45s 447ms/step - loss: 0.0955 - acc: 0.9706 - val_loss: 0.6918 - val_acc: 0.8267\n"
          ],
          "name": "stdout"
        }
      ]
    },
    {
      "cell_type": "markdown",
      "metadata": {
        "id": "Iwu1D1ixMLma"
      },
      "source": [
        "Eğitim kaybı ve başarımını çizdirmek"
      ]
    },
    {
      "cell_type": "code",
      "metadata": {
        "colab": {
          "base_uri": "https://localhost:8080/",
          "height": 572
        },
        "id": "78kTtvkbMVtj",
        "outputId": "a13c27dd-abcf-43dc-f9e4-07dd7c6ec0d4"
      },
      "source": [
        "acc =  history.history['acc']\r\n",
        "val_acc = history.history['val_acc']\r\n",
        "loss = history.history['loss']\r\n",
        "val_loss = history.history['val_loss']\r\n",
        "\r\n",
        "epochs= range(1, len(acc) + 1)\r\n",
        "\r\n",
        "plt.plot(epochs, acc, 'bo', label='Eğitim başarımı')\r\n",
        "plt.plot(epochs, val_acc,'b',label='Validation başarımı')\r\n",
        "plt.title('Eğitim ve Validation Başarımı')\r\n",
        "plt.xlabel('Epochs')\r\n",
        "plt.ylabel('Başarım')\r\n",
        "plt.legend()\r\n",
        "\r\n",
        "plt.figure()\r\n",
        "\r\n",
        "plt.plot(epochs, loss, 'bo', label='Eğitim kaybı')\r\n",
        "plt.plot(epochs, val_loss,'b',label='Validation kaybı')\r\n",
        "plt.title('Eğitim ve Validation kaybı')\r\n",
        "plt.xlabel('Epochs')\r\n",
        "plt.ylabel('Kayıp')\r\n",
        "plt.legend()\r\n",
        "\r\n",
        "plt.show()"
      ],
      "execution_count": null,
      "outputs": [
        {
          "output_type": "display_data",
          "data": {
            "image/png": "[encoded data removed]",
            "text/plain": [
              "<Figure size 432x288 with 1 Axes>"
            ]
          },
          "metadata": {
            "tags": [],
            "needs_background": "light"
          }
        },
        {
          "output_type": "display_data",
          "data": {
            "image/png": "[encoded data removed]",
            "text/plain": [
              "<Figure size 432x288 with 1 Axes>"
            ]
          },
          "metadata": {
            "tags": [],
            "needs_background": "light"
          }
        }
      ]
    },
    {
      "cell_type": "markdown",
      "metadata": {
        "id": "QOBloKIPMilI"
      },
      "source": [
        "Dropout ekleyerek ağı tekrardan eğitiyoruz"
      ]
    },
    {
      "cell_type": "code",
      "metadata": {
        "id": "GD88Y3-kMo4I"
      },
      "source": [
        "def model2():\r\n",
        "  model = models.Sequential()\r\n",
        "  model.add(layers.Conv2D(32,\r\n",
        "                   (3, 3),\r\n",
        "                   padding='same',\r\n",
        "                   activation='relu',\r\n",
        "                   input_shape=(32,32,3)))\r\n",
        "  model.add(layers.Conv2D(64, \r\n",
        "                   (3, 3),\r\n",
        "                   padding= 'same',\r\n",
        "                   activation='relu'))\r\n",
        "  model.add(layers.MaxPooling2D(2,2))\r\n",
        "  model.add(layers.Conv2D(128, \r\n",
        "                   (3, 3), \r\n",
        "                   padding= 'same',\r\n",
        "                   activation='relu'))\r\n",
        "  model.add(layers.Conv2D(256, \r\n",
        "                   (3, 3),\r\n",
        "                   activation='relu'))\r\n",
        "  model.add(layers.MaxPooling2D(2,2))\r\n",
        "  model.add(layers.Dropout(0.5))\r\n",
        "  model.add(layers.Flatten())\r\n",
        "  model.add(layers.Dense(256,\r\n",
        "                         activation='relu'))\r\n",
        "  model.add(layers.Dense(6,\r\n",
        "                         activation='softmax'))\r\n",
        "  model.summary()\r\n",
        "  #Modelin derlenmesi\r\n",
        "  model.compile(loss='categorical_crossentropy',\r\n",
        "              optimizer=optimizers.RMSprop(lr=1e-4),\r\n",
        "              metrics=['acc'])\r\n",
        "  return model"
      ],
      "execution_count": null,
      "outputs": []
    },
    {
      "cell_type": "code",
      "metadata": {
        "colab": {
          "base_uri": "https://localhost:8080/"
        },
        "id": "JDMrA_BMSw1X",
        "outputId": "8bf6254e-4dbf-4358-994f-501af2585f0a"
      },
      "source": [
        "model = model2()"
      ],
      "execution_count": null,
      "outputs": [
        {
          "output_type": "stream",
          "text": [
            "Model: \"sequential_1\"\n",
            "_________________________________________________________________\n",
            "Layer (type)                 Output Shape              Param #   \n",
            "=================================================================\n",
            "conv2d_4 (Conv2D)            (None, 32, 32, 32)        896       \n",
            "_________________________________________________________________\n",
            "conv2d_5 (Conv2D)            (None, 32, 32, 64)        18496     \n",
            "_________________________________________________________________\n",
            "max_pooling2d_2 (MaxPooling2 (None, 16, 16, 64)        0         \n",
            "_________________________________________________________________\n",
            "conv2d_6 (Conv2D)            (None, 16, 16, 128)       73856     \n",
            "_________________________________________________________________\n",
            "conv2d_7 (Conv2D)            (None, 14, 14, 256)       295168    \n",
            "_________________________________________________________________\n",
            "max_pooling2d_3 (MaxPooling2 (None, 7, 7, 256)         0         \n",
            "_________________________________________________________________\n",
            "dropout (Dropout)            (None, 7, 7, 256)         0         \n",
            "_________________________________________________________________\n",
            "flatten_1 (Flatten)          (None, 12544)             0         \n",
            "_________________________________________________________________\n",
            "dense_2 (Dense)              (None, 256)               3211520   \n",
            "_________________________________________________________________\n",
            "dense_3 (Dense)              (None, 6)                 1542      \n",
            "=================================================================\n",
            "Total params: 3,601,478\n",
            "Trainable params: 3,601,478\n",
            "Non-trainable params: 0\n",
            "_________________________________________________________________\n"
          ],
          "name": "stdout"
        }
      ]
    },
    {
      "cell_type": "markdown",
      "metadata": {
        "id": "JuN8nap_NBg_"
      },
      "source": [
        "Model Eğit(2)"
      ]
    },
    {
      "cell_type": "code",
      "metadata": {
        "colab": {
          "base_uri": "https://localhost:8080/"
        },
        "id": "DIlDpRbHNTx1",
        "outputId": "d58adf7b-e58e-4a6a-acbb-1208ea5917ba"
      },
      "source": [
        "history = model.fit_generator(\r\n",
        "    train_generator,\r\n",
        "    steps_per_epoch=100,\r\n",
        "    epochs=30,\r\n",
        "    validation_data=validation_generator,\r\n",
        "    validation_steps=50)"
      ],
      "execution_count": null,
      "outputs": [
        {
          "output_type": "stream",
          "text": [
            "/usr/local/lib/python3.6/dist-packages/tensorflow/python/keras/engine/training.py:1844: UserWarning: `Model.fit_generator` is deprecated and will be removed in a future version. Please use `Model.fit`, which supports generators.\n",
            "  warnings.warn('`Model.fit_generator` is deprecated and '\n"
          ],
          "name": "stderr"
        },
        {
          "output_type": "stream",
          "text": [
            "Epoch 1/30\n",
            "100/100 [==============================] - 46s 454ms/step - loss: 1.5279 - acc: 0.3632 - val_loss: 1.0996 - val_acc: 0.5300\n",
            "Epoch 2/30\n",
            "100/100 [==============================] - 45s 453ms/step - loss: 1.0893 - acc: 0.5687 - val_loss: 0.9504 - val_acc: 0.6233\n",
            "Epoch 3/30\n",
            "100/100 [==============================] - 45s 452ms/step - loss: 0.9700 - acc: 0.6307 - val_loss: 0.8801 - val_acc: 0.7067\n",
            "Epoch 4/30\n",
            "100/100 [==============================] - 45s 455ms/step - loss: 0.8756 - acc: 0.6746 - val_loss: 0.8412 - val_acc: 0.7000\n",
            "Epoch 5/30\n",
            "100/100 [==============================] - 46s 458ms/step - loss: 0.8279 - acc: 0.6925 - val_loss: 0.7241 - val_acc: 0.7567\n",
            "Epoch 6/30\n",
            "100/100 [==============================] - 46s 459ms/step - loss: 0.7522 - acc: 0.7157 - val_loss: 0.7031 - val_acc: 0.7567\n",
            "Epoch 7/30\n",
            "100/100 [==============================] - 46s 456ms/step - loss: 0.7035 - acc: 0.7366 - val_loss: 0.6805 - val_acc: 0.7800\n",
            "Epoch 8/30\n",
            "100/100 [==============================] - 45s 454ms/step - loss: 0.6268 - acc: 0.7794 - val_loss: 0.6097 - val_acc: 0.8067\n",
            "Epoch 9/30\n",
            "100/100 [==============================] - 45s 453ms/step - loss: 0.5811 - acc: 0.7946 - val_loss: 0.6610 - val_acc: 0.7633\n",
            "Epoch 10/30\n",
            "100/100 [==============================] - 46s 455ms/step - loss: 0.5731 - acc: 0.7811 - val_loss: 0.5930 - val_acc: 0.7733\n",
            "Epoch 11/30\n",
            "100/100 [==============================] - 46s 458ms/step - loss: 0.5455 - acc: 0.8023 - val_loss: 0.5778 - val_acc: 0.7833\n",
            "Epoch 12/30\n",
            "100/100 [==============================] - 46s 459ms/step - loss: 0.4961 - acc: 0.8207 - val_loss: 0.5882 - val_acc: 0.7933\n",
            "Epoch 13/30\n",
            "100/100 [==============================] - 46s 456ms/step - loss: 0.4639 - acc: 0.8402 - val_loss: 0.5529 - val_acc: 0.8067\n",
            "Epoch 14/30\n",
            "100/100 [==============================] - 45s 454ms/step - loss: 0.4466 - acc: 0.8355 - val_loss: 0.4811 - val_acc: 0.8467\n",
            "Epoch 15/30\n",
            "100/100 [==============================] - 45s 454ms/step - loss: 0.4291 - acc: 0.8385 - val_loss: 0.5058 - val_acc: 0.8467\n",
            "Epoch 16/30\n",
            "100/100 [==============================] - 45s 454ms/step - loss: 0.3949 - acc: 0.8631 - val_loss: 0.5897 - val_acc: 0.8000\n",
            "Epoch 17/30\n",
            "100/100 [==============================] - 45s 454ms/step - loss: 0.4223 - acc: 0.8449 - val_loss: 0.5110 - val_acc: 0.8267\n",
            "Epoch 18/30\n",
            "100/100 [==============================] - 46s 463ms/step - loss: 0.3498 - acc: 0.8692 - val_loss: 0.6205 - val_acc: 0.8033\n",
            "Epoch 19/30\n",
            "100/100 [==============================] - 47s 465ms/step - loss: 0.3461 - acc: 0.8759 - val_loss: 0.6452 - val_acc: 0.8000\n",
            "Epoch 20/30\n",
            "100/100 [==============================] - 46s 456ms/step - loss: 0.3574 - acc: 0.8795 - val_loss: 0.5652 - val_acc: 0.8100\n",
            "Epoch 21/30\n",
            "100/100 [==============================] - 45s 454ms/step - loss: 0.3160 - acc: 0.8904 - val_loss: 0.6108 - val_acc: 0.8100\n",
            "Epoch 22/30\n",
            "100/100 [==============================] - 46s 458ms/step - loss: 0.2891 - acc: 0.8923 - val_loss: 0.5690 - val_acc: 0.8333\n",
            "Epoch 23/30\n",
            "100/100 [==============================] - 46s 455ms/step - loss: 0.2896 - acc: 0.8895 - val_loss: 0.5734 - val_acc: 0.7800\n",
            "Epoch 24/30\n",
            "100/100 [==============================] - 46s 456ms/step - loss: 0.2762 - acc: 0.8984 - val_loss: 0.4969 - val_acc: 0.8467\n",
            "Epoch 25/30\n",
            "100/100 [==============================] - 46s 459ms/step - loss: 0.2649 - acc: 0.9025 - val_loss: 0.6246 - val_acc: 0.8367\n",
            "Epoch 26/30\n",
            "100/100 [==============================] - 46s 460ms/step - loss: 0.2538 - acc: 0.9082 - val_loss: 0.4324 - val_acc: 0.8600\n",
            "Epoch 27/30\n",
            "100/100 [==============================] - 46s 456ms/step - loss: 0.2498 - acc: 0.9052 - val_loss: 0.6084 - val_acc: 0.8233\n",
            "Epoch 28/30\n",
            "100/100 [==============================] - 45s 455ms/step - loss: 0.2213 - acc: 0.9230 - val_loss: 0.5193 - val_acc: 0.8400\n",
            "Epoch 29/30\n",
            "100/100 [==============================] - 45s 454ms/step - loss: 0.2082 - acc: 0.9298 - val_loss: 0.5347 - val_acc: 0.8367\n",
            "Epoch 30/30\n",
            "100/100 [==============================] - 45s 454ms/step - loss: 0.1970 - acc: 0.9343 - val_loss: 0.5796 - val_acc: 0.8333\n"
          ],
          "name": "stdout"
        }
      ]
    },
    {
      "cell_type": "markdown",
      "metadata": {
        "id": "uQrdKqRsYyda"
      },
      "source": [
        "Eğitim kaybı ve başarımını çizdirmek"
      ]
    },
    {
      "cell_type": "code",
      "metadata": {
        "colab": {
          "base_uri": "https://localhost:8080/",
          "height": 572
        },
        "id": "0VDhWnhiYzrn",
        "outputId": "c79561db-9534-4c01-d5fd-bc75cea717bb"
      },
      "source": [
        "acc =  history.history['acc']\r\n",
        "val_acc = history.history['val_acc']\r\n",
        "loss = history.history['loss']\r\n",
        "val_loss = history.history['val_loss']\r\n",
        "\r\n",
        "epochs= range(1, len(acc) + 1)\r\n",
        "\r\n",
        "plt.plot(epochs, acc, 'bo', label='Eğitim başarımı')\r\n",
        "plt.plot(epochs, val_acc,'b',label='Validation başarımı')\r\n",
        "plt.title('Eğitim ve Validation Başarımı')\r\n",
        "plt.xlabel('Epochs')\r\n",
        "plt.ylabel('Başarım')\r\n",
        "plt.legend()\r\n",
        "\r\n",
        "plt.figure()\r\n",
        "\r\n",
        "plt.plot(epochs, loss, 'bo', label='Eğitim kaybı')\r\n",
        "plt.plot(epochs, val_loss,'b',label='Validation kaybı')\r\n",
        "plt.title('Eğitim ve Validation kaybı')\r\n",
        "plt.xlabel('Epochs')\r\n",
        "plt.ylabel('Kayıp')\r\n",
        "plt.legend()\r\n",
        "\r\n",
        "plt.show()"
      ],
      "execution_count": null,
      "outputs": [
        {
          "output_type": "display_data",
          "data": {
            "image/png": "[encoded data removed]",
            "text/plain": [
              "<Figure size 432x288 with 1 Axes>"
            ]
          },
          "metadata": {
            "tags": [],
            "needs_background": "light"
          }
        },
        {
          "output_type": "display_data",
          "data": {
            "image/png": "[encoded data removed]",
            "text/plain": [
              "<Figure size 432x288 with 1 Axes>"
            ]
          },
          "metadata": {
            "tags": [],
            "needs_background": "light"
          }
        }
      ]
    },
    {
      "cell_type": "markdown",
      "metadata": {
        "id": "8gapt1wnYhOz"
      },
      "source": [
        "Sadece Veri Zenginleştirme Yaparak Ağı Eğitmek"
      ]
    },
    {
      "cell_type": "code",
      "metadata": {
        "id": "mrfHQt3zYgb9"
      },
      "source": [
        "def model3():\r\n",
        "  model = models.Sequential()\r\n",
        "  model.add(layers.Conv2D(32,\r\n",
        "                   (3, 3),\r\n",
        "                   padding='same',\r\n",
        "                   activation='relu',\r\n",
        "                   input_shape=(32,32,3)))\r\n",
        "  model.add(layers.Conv2D(64, \r\n",
        "                   (3, 3),\r\n",
        "                   padding= 'same',\r\n",
        "                   activation='relu'))\r\n",
        "  model.add(layers.MaxPooling2D(2,2))\r\n",
        "  model.add(layers.Conv2D(128, \r\n",
        "                   (3, 3), \r\n",
        "                   padding= 'same',\r\n",
        "                   activation='relu'))\r\n",
        "  model.add(layers.Conv2D(256, \r\n",
        "                   (3, 3),\r\n",
        "                   activation='relu'))\r\n",
        "  model.add(layers.MaxPooling2D(2,2))\r\n",
        "  model.add(layers.Flatten())\r\n",
        "  model.add(layers.Dense(256,\r\n",
        "                         activation='relu'))\r\n",
        "  model.add(layers.Dense(6,\r\n",
        "                         activation='softmax'))\r\n",
        "  model.summary()\r\n",
        "  #Modelin derlenmesi\r\n",
        "  model.compile(loss='categorical_crossentropy',\r\n",
        "              optimizer=optimizers.RMSprop(lr=1e-4),\r\n",
        "              metrics=['acc'])\r\n",
        "  return model"
      ],
      "execution_count": null,
      "outputs": []
    },
    {
      "cell_type": "code",
      "metadata": {
        "colab": {
          "base_uri": "https://localhost:8080/"
        },
        "id": "aGFtUe3MY9QB",
        "outputId": "7e4ced34-e0f0-4b37-909b-6b627dd579bb"
      },
      "source": [
        "model = model3()"
      ],
      "execution_count": null,
      "outputs": [
        {
          "output_type": "stream",
          "text": [
            "Model: \"sequential_2\"\n",
            "_________________________________________________________________\n",
            "Layer (type)                 Output Shape              Param #   \n",
            "=================================================================\n",
            "conv2d_8 (Conv2D)            (None, 32, 32, 32)        896       \n",
            "_________________________________________________________________\n",
            "conv2d_9 (Conv2D)            (None, 32, 32, 64)        18496     \n",
            "_________________________________________________________________\n",
            "max_pooling2d_4 (MaxPooling2 (None, 16, 16, 64)        0         \n",
            "_________________________________________________________________\n",
            "conv2d_10 (Conv2D)           (None, 16, 16, 128)       73856     \n",
            "_________________________________________________________________\n",
            "conv2d_11 (Conv2D)           (None, 14, 14, 256)       295168    \n",
            "_________________________________________________________________\n",
            "max_pooling2d_5 (MaxPooling2 (None, 7, 7, 256)         0         \n",
            "_________________________________________________________________\n",
            "flatten_2 (Flatten)          (None, 12544)             0         \n",
            "_________________________________________________________________\n",
            "dense_4 (Dense)              (None, 256)               3211520   \n",
            "_________________________________________________________________\n",
            "dense_5 (Dense)              (None, 6)                 1542      \n",
            "=================================================================\n",
            "Total params: 3,601,478\n",
            "Trainable params: 3,601,478\n",
            "Non-trainable params: 0\n",
            "_________________________________________________________________\n"
          ],
          "name": "stdout"
        }
      ]
    },
    {
      "cell_type": "markdown",
      "metadata": {
        "id": "d8x_MQ0RBA2y"
      },
      "source": [
        "Veri Zenginleştirme\r\n"
      ]
    },
    {
      "cell_type": "code",
      "metadata": {
        "id": "f_b9qwLfA77C"
      },
      "source": [
        "train_datagen= ImageDataGenerator(\r\n",
        "        rescale=1./255,\r\n",
        "        rotation_range=30,\r\n",
        "        width_shift_range=0.2,\r\n",
        "        height_shift_range=0.2,\r\n",
        "        shear_range=0.2,\r\n",
        "        zoom_range=0.2,\r\n",
        "        horizontal_flip=True,\r\n",
        "        fill_mode='nearest')"
      ],
      "execution_count": null,
      "outputs": []
    },
    {
      "cell_type": "markdown",
      "metadata": {
        "id": "zCfl9P1pB8nk"
      },
      "source": [
        "Modeli Eğit"
      ]
    },
    {
      "cell_type": "code",
      "metadata": {
        "colab": {
          "base_uri": "https://localhost:8080/"
        },
        "id": "i6dwVzToB7t7",
        "outputId": "ad42ac40-e18d-4533-c227-05e8257f3654"
      },
      "source": [
        "history = model.fit_generator(\r\n",
        "    train_generator,\r\n",
        "    steps_per_epoch=100,\r\n",
        "    epochs=30,\r\n",
        "    validation_data=validation_generator,\r\n",
        "    validation_steps=50)"
      ],
      "execution_count": null,
      "outputs": [
        {
          "output_type": "stream",
          "text": [
            "/usr/local/lib/python3.6/dist-packages/tensorflow/python/keras/engine/training.py:1844: UserWarning: `Model.fit_generator` is deprecated and will be removed in a future version. Please use `Model.fit`, which supports generators.\n",
            "  warnings.warn('`Model.fit_generator` is deprecated and '\n"
          ],
          "name": "stderr"
        },
        {
          "output_type": "stream",
          "text": [
            "Epoch 1/30\n",
            "100/100 [==============================] - 47s 459ms/step - loss: 1.4743 - acc: 0.3864 - val_loss: 1.1474 - val_acc: 0.5667\n",
            "Epoch 2/30\n",
            "100/100 [==============================] - 45s 450ms/step - loss: 1.0368 - acc: 0.5822 - val_loss: 0.9602 - val_acc: 0.6633\n",
            "Epoch 3/30\n",
            "100/100 [==============================] - 45s 449ms/step - loss: 0.9531 - acc: 0.6418 - val_loss: 0.8716 - val_acc: 0.7000\n",
            "Epoch 4/30\n",
            "100/100 [==============================] - 45s 449ms/step - loss: 0.8772 - acc: 0.6755 - val_loss: 0.8220 - val_acc: 0.7200\n",
            "Epoch 5/30\n",
            "100/100 [==============================] - 45s 449ms/step - loss: 0.8091 - acc: 0.6947 - val_loss: 0.8529 - val_acc: 0.6733\n",
            "Epoch 6/30\n",
            "100/100 [==============================] - 45s 450ms/step - loss: 0.7021 - acc: 0.7346 - val_loss: 0.6829 - val_acc: 0.7600\n",
            "Epoch 7/30\n",
            "100/100 [==============================] - 45s 450ms/step - loss: 0.6662 - acc: 0.7657 - val_loss: 0.6797 - val_acc: 0.7767\n",
            "Epoch 8/30\n",
            "100/100 [==============================] - 47s 467ms/step - loss: 0.6658 - acc: 0.7500 - val_loss: 0.7704 - val_acc: 0.7700\n",
            "Epoch 9/30\n",
            "100/100 [==============================] - 45s 448ms/step - loss: 0.5855 - acc: 0.7804 - val_loss: 0.6142 - val_acc: 0.8100\n",
            "Epoch 10/30\n",
            "100/100 [==============================] - 45s 449ms/step - loss: 0.5087 - acc: 0.8145 - val_loss: 0.6113 - val_acc: 0.7900\n",
            "Epoch 11/30\n",
            "100/100 [==============================] - 45s 448ms/step - loss: 0.4863 - acc: 0.8142 - val_loss: 0.6296 - val_acc: 0.7600\n",
            "Epoch 12/30\n",
            "100/100 [==============================] - 45s 448ms/step - loss: 0.4880 - acc: 0.8195 - val_loss: 0.6133 - val_acc: 0.7767\n",
            "Epoch 13/30\n",
            "100/100 [==============================] - 45s 449ms/step - loss: 0.4134 - acc: 0.8541 - val_loss: 0.6166 - val_acc: 0.7867\n",
            "Epoch 14/30\n",
            "100/100 [==============================] - 45s 447ms/step - loss: 0.3851 - acc: 0.8700 - val_loss: 0.5928 - val_acc: 0.8033\n",
            "Epoch 15/30\n",
            "100/100 [==============================] - 45s 453ms/step - loss: 0.3804 - acc: 0.8640 - val_loss: 0.5855 - val_acc: 0.8067\n",
            "Epoch 16/30\n",
            "100/100 [==============================] - 45s 445ms/step - loss: 0.3495 - acc: 0.8708 - val_loss: 0.5922 - val_acc: 0.7867\n",
            "Epoch 17/30\n",
            "100/100 [==============================] - 45s 445ms/step - loss: 0.3132 - acc: 0.8946 - val_loss: 0.4518 - val_acc: 0.8633\n",
            "Epoch 18/30\n",
            "100/100 [==============================] - 45s 446ms/step - loss: 0.3060 - acc: 0.8864 - val_loss: 0.5703 - val_acc: 0.8067\n",
            "Epoch 19/30\n",
            "100/100 [==============================] - 45s 447ms/step - loss: 0.2692 - acc: 0.9073 - val_loss: 0.5422 - val_acc: 0.8433\n",
            "Epoch 20/30\n",
            "100/100 [==============================] - 45s 448ms/step - loss: 0.2590 - acc: 0.9076 - val_loss: 0.6197 - val_acc: 0.8067\n",
            "Epoch 21/30\n",
            "100/100 [==============================] - 45s 446ms/step - loss: 0.2341 - acc: 0.9203 - val_loss: 0.6464 - val_acc: 0.8033\n",
            "Epoch 22/30\n",
            "100/100 [==============================] - 45s 451ms/step - loss: 0.1983 - acc: 0.9383 - val_loss: 0.6319 - val_acc: 0.7967\n",
            "Epoch 23/30\n",
            "100/100 [==============================] - 45s 446ms/step - loss: 0.2031 - acc: 0.9310 - val_loss: 0.5634 - val_acc: 0.8167\n",
            "Epoch 24/30\n",
            "100/100 [==============================] - 45s 446ms/step - loss: 0.1685 - acc: 0.9454 - val_loss: 0.5865 - val_acc: 0.8100\n",
            "Epoch 25/30\n",
            "100/100 [==============================] - 45s 447ms/step - loss: 0.1513 - acc: 0.9522 - val_loss: 0.5781 - val_acc: 0.8033\n",
            "Epoch 26/30\n",
            "100/100 [==============================] - 45s 447ms/step - loss: 0.1366 - acc: 0.9507 - val_loss: 0.6110 - val_acc: 0.8300\n",
            "Epoch 27/30\n",
            "100/100 [==============================] - 45s 448ms/step - loss: 0.1243 - acc: 0.9651 - val_loss: 0.6730 - val_acc: 0.8067\n",
            "Epoch 28/30\n",
            "100/100 [==============================] - 45s 447ms/step - loss: 0.1284 - acc: 0.9515 - val_loss: 0.7610 - val_acc: 0.8067\n",
            "Epoch 29/30\n",
            "100/100 [==============================] - 45s 450ms/step - loss: 0.0982 - acc: 0.9762 - val_loss: 0.7038 - val_acc: 0.8367\n",
            "Epoch 30/30\n",
            "100/100 [==============================] - 45s 448ms/step - loss: 0.0938 - acc: 0.9744 - val_loss: 0.8899 - val_acc: 0.7900\n"
          ],
          "name": "stdout"
        }
      ]
    },
    {
      "cell_type": "code",
      "metadata": {
        "colab": {
          "base_uri": "https://localhost:8080/",
          "height": 573
        },
        "id": "Z7KORus1aBLJ",
        "outputId": "5d32d944-bb28-4df8-9c18-5249c4837b2e"
      },
      "source": [
        "acc =  history.history['acc']\r\n",
        "val_acc = history.history['val_acc']\r\n",
        "loss = history.history['loss']\r\n",
        "val_loss = history.history['val_loss']\r\n",
        "\r\n",
        "epochs= range(1, len(acc) + 1)\r\n",
        "\r\n",
        "plt.plot(epochs, acc, 'bo', label='Eğitim başarımı')\r\n",
        "plt.plot(epochs, val_acc,'b',label='Validation başarımı')\r\n",
        "plt.title('Eğitim ve Validation Başarımı')\r\n",
        "plt.xlabel('Epochs')\r\n",
        "plt.ylabel('Başarım')\r\n",
        "plt.legend()\r\n",
        "\r\n",
        "plt.figure()\r\n",
        "\r\n",
        "plt.plot(epochs, loss, 'bo', label='Eğitim kaybı')\r\n",
        "plt.plot(epochs, val_loss,'b',label='Validation kaybı')\r\n",
        "plt.title('Eğitim ve Validation kaybı')\r\n",
        "plt.xlabel('Epochs')\r\n",
        "plt.ylabel('Kayıp')\r\n",
        "plt.legend()\r\n",
        "\r\n",
        "plt.show()"
      ],
      "execution_count": null,
      "outputs": [
        {
          "output_type": "display_data",
          "data": {
            "image/png": "[encoded data removed]",
            "text/plain": [
              "<Figure size 432x288 with 1 Axes>"
            ]
          },
          "metadata": {
            "tags": [],
            "needs_background": "light"
          }
        },
        {
          "output_type": "display_data",
          "data": {
            "image/png": "[encoded data removed]",
            "text/plain": [
              "<Figure size 432x288 with 1 Axes>"
            ]
          },
          "metadata": {
            "tags": [],
            "needs_background": "light"
          }
        }
      ]
    },
    {
      "cell_type": "code",
      "metadata": {
        "id": "5niK9UcL69k3"
      },
      "source": [
        "model.save('cifar100-caner.h5')"
      ],
      "execution_count": null,
      "outputs": []
    },
    {
      "cell_type": "code",
      "metadata": {
        "colab": {
          "base_uri": "https://localhost:8080/"
        },
        "id": "GVsImzkPheav",
        "outputId": "146ac285-5d9a-4777-f78a-9337630b8ce9"
      },
      "source": [
        "from keras.preprocessing import image\r\n",
        "img = image.load_img('/content/bisiklet.png',target_size=(32,32))\r\n",
        "\r\n",
        "img_tensor = image.img_to_array(img)\r\n",
        "img_tensor = np.expand_dims(img_tensor, axis=0)\r\n",
        "img_tensor /= 255. #Modelimizi eğitirken normalize ediyoruz.\r\n",
        "\r\n",
        "y=model.predict(img_tensor)\r\n",
        "\r\n",
        "print(img_tensor.shape)"
      ],
      "execution_count": null,
      "outputs": [
        {
          "output_type": "stream",
          "text": [
            "(1, 32, 32, 3)\n"
          ],
          "name": "stdout"
        }
      ]
    },
    {
      "cell_type": "code",
      "metadata": {
        "colab": {
          "base_uri": "https://localhost:8080/",
          "height": 266
        },
        "id": "RZ0Z-pLRkQrH",
        "outputId": "d6424f40-7822-4a3e-eb60-69ef88ecbcbe"
      },
      "source": [
        "plt.imshow(img_tensor[0])\r\n",
        "plt.show()"
      ],
      "execution_count": null,
      "outputs": [
        {
          "output_type": "display_data",
          "data": {
            "image/png": "[encoded data removed]",
            "text/plain": [
              "<Figure size 432x288 with 1 Axes>"
            ]
          },
          "metadata": {
            "tags": [],
            "needs_background": "light"
          }
        }
      ]
    },
    {
      "cell_type": "code",
      "metadata": {
        "colab": {
          "base_uri": "https://localhost:8080/"
        },
        "id": "WDnJpihQl5MP",
        "outputId": "b34b3abc-2069-4dcd-c739-24c985dc9481"
      },
      "source": [
        "tahmin_indeks=np.argmax(y)\r\n",
        "tahmin_yuzde = y[0][tahmin_indeks]*100\r\n",
        "tahmin_yuzde"
      ],
      "execution_count": null,
      "outputs": [
        {
          "output_type": "execute_result",
          "data": {
            "text/plain": [
              "89.77622389793396"
            ]
          },
          "metadata": {
            "tags": []
          },
          "execution_count": 32
        }
      ]
    },
    {
      "cell_type": "code",
      "metadata": {
        "colab": {
          "base_uri": "https://localhost:8080/"
        },
        "id": "atDzpf36Xi73",
        "outputId": "1dd19ae0-f4e2-4b07-d9fb-c27703fb2682"
      },
      "source": [
        "img = image.load_img('/content/timsah.png',target_size=(32,32))\r\n",
        "\r\n",
        "img_tensor = image.img_to_array(img)\r\n",
        "img_tensor = np.expand_dims(img_tensor, axis=0)\r\n",
        "img_tensor /= 255. #Modelimizi eğitirken normalize ediyoruz.\r\n",
        "\r\n",
        "y=model.predict(img_tensor)\r\n",
        "\r\n",
        "print(img_tensor.shape)"
      ],
      "execution_count": null,
      "outputs": [
        {
          "output_type": "stream",
          "text": [
            "(1, 32, 32, 3)\n"
          ],
          "name": "stdout"
        }
      ]
    },
    {
      "cell_type": "code",
      "metadata": {
        "colab": {
          "base_uri": "https://localhost:8080/",
          "height": 266
        },
        "id": "IF2gIo3X1na4",
        "outputId": "00cf0104-e47d-48bd-f5ff-ee9c32741472"
      },
      "source": [
        "plt.imshow(img_tensor[0])\r\n",
        "plt.show()"
      ],
      "execution_count": null,
      "outputs": [
        {
          "output_type": "display_data",
          "data": {
            "image/png": "[encoded data removed]",
            "text/plain": [
              "<Figure size 432x288 with 1 Axes>"
            ]
          },
          "metadata": {
            "tags": [],
            "needs_background": "light"
          }
        }
      ]
    },
    {
      "cell_type": "code",
      "metadata": {
        "colab": {
          "base_uri": "https://localhost:8080/"
        },
        "id": "IGEnEnMz1pwP",
        "outputId": "60ee3477-6cb4-4a30-dd35-1b774bc6bae5"
      },
      "source": [
        "tahmin_indeks=np.argmax(y)\r\n",
        "tahmin_yuzde = y[0][tahmin_indeks]*100\r\n",
        "tahmin_yuzde"
      ],
      "execution_count": null,
      "outputs": [
        {
          "output_type": "execute_result",
          "data": {
            "text/plain": [
              "89.77622389793396"
            ]
          },
          "metadata": {
            "tags": []
          },
          "execution_count": 30
        }
      ]
    },
    {
      "cell_type": "code",
      "metadata": {
        "colab": {
          "base_uri": "https://localhost:8080/"
        },
        "id": "W-RDRKb81rmx",
        "outputId": "6b5ee629-b471-4364-a489-6c065994efd3"
      },
      "source": [
        "img = image.load_img('/content/orkide.png',target_size=(32,32))\r\n",
        "\r\n",
        "img_tensor = image.img_to_array(img)\r\n",
        "img_tensor = np.expand_dims(img_tensor, axis=0)\r\n",
        "img_tensor /= 255. #Modelimizi eğitirken normalize ediyoruz.\r\n",
        "\r\n",
        "y=model.predict(img_tensor)\r\n",
        "\r\n",
        "print(img_tensor.shape)"
      ],
      "execution_count": null,
      "outputs": [
        {
          "output_type": "stream",
          "text": [
            "(1, 32, 32, 3)\n"
          ],
          "name": "stdout"
        }
      ]
    },
    {
      "cell_type": "code",
      "metadata": {
        "colab": {
          "base_uri": "https://localhost:8080/",
          "height": 266
        },
        "id": "drQVtAqu2Pnx",
        "outputId": "b241cda5-d299-44fa-e639-33405f11bdf5"
      },
      "source": [
        "plt.imshow(img_tensor[0])\r\n",
        "plt.show()"
      ],
      "execution_count": null,
      "outputs": [
        {
          "output_type": "display_data",
          "data": {
            "image/png": "[encoded data removed]",
            "text/plain": [
              "<Figure size 432x288 with 1 Axes>"
            ]
          },
          "metadata": {
            "tags": [],
            "needs_background": "light"
          }
        }
      ]
    },
    {
      "cell_type": "code",
      "metadata": {
        "colab": {
          "base_uri": "https://localhost:8080/"
        },
        "id": "amsqBh9N2R1f",
        "outputId": "cbd66f4f-0012-4176-e140-f5cc2cd63a5d"
      },
      "source": [
        "tahmin_indeks=np.argmax(y)\r\n",
        "tahmin_yuzde = y[0][tahmin_indeks]*100\r\n",
        "tahmin_yuzde"
      ],
      "execution_count": null,
      "outputs": [
        {
          "output_type": "execute_result",
          "data": {
            "text/plain": [
              "98.67520332336426"
            ]
          },
          "metadata": {
            "tags": []
          },
          "execution_count": 35
        }
      ]
    },
    {
      "cell_type": "code",
      "metadata": {
        "colab": {
          "base_uri": "https://localhost:8080/"
        },
        "id": "pZ2j8aw82WJk",
        "outputId": "8211d7cb-d76a-4e6f-e72b-140bde0606e7"
      },
      "source": [
        "img = image.load_img('/content/gelincik.png',target_size=(32,32))\r\n",
        "\r\n",
        "img_tensor = image.img_to_array(img)\r\n",
        "img_tensor = np.expand_dims(img_tensor, axis=0)\r\n",
        "img_tensor /= 255. #Modelimizi eğitirken normalize ediyoruz.\r\n",
        "\r\n",
        "y=model.predict(img_tensor)\r\n",
        "\r\n",
        "print(img_tensor.shape)"
      ],
      "execution_count": null,
      "outputs": [
        {
          "output_type": "stream",
          "text": [
            "(1, 32, 32, 3)\n"
          ],
          "name": "stdout"
        }
      ]
    },
    {
      "cell_type": "code",
      "metadata": {
        "colab": {
          "base_uri": "https://localhost:8080/",
          "height": 266
        },
        "id": "NqQvGtUZ2eEz",
        "outputId": "336f0fcd-d15b-4149-d4e8-f38e2c50a166"
      },
      "source": [
        "plt.imshow(img_tensor[0])\r\n",
        "plt.show()"
      ],
      "execution_count": null,
      "outputs": [
        {
          "output_type": "display_data",
          "data": {
            "image/png": "[encoded data removed]",
            "text/plain": [
              "<Figure size 432x288 with 1 Axes>"
            ]
          },
          "metadata": {
            "tags": [],
            "needs_background": "light"
          }
        }
      ]
    },
    {
      "cell_type": "code",
      "metadata": {
        "colab": {
          "base_uri": "https://localhost:8080/"
        },
        "id": "Q1Yx1dhR2gZw",
        "outputId": "167c390a-afc9-4f81-8ec7-0f9f474c4d36"
      },
      "source": [
        "tahmin_indeks=np.argmax(y)\r\n",
        "tahmin_yuzde = y[0][tahmin_indeks]*100\r\n",
        "tahmin_yuzde"
      ],
      "execution_count": null,
      "outputs": [
        {
          "output_type": "execute_result",
          "data": {
            "text/plain": [
              "99.95579123497009"
            ]
          },
          "metadata": {
            "tags": []
          },
          "execution_count": 38
        }
      ]
    },
    {
      "cell_type": "code",
      "metadata": {
        "colab": {
          "base_uri": "https://localhost:8080/"
        },
        "id": "5Ffe0oQq2iIS",
        "outputId": "c0fa061a-c2c2-43fe-e4ea-bf0568e04919"
      },
      "source": [
        "img = image.load_img('/content/salyangoz.png',target_size=(32,32))\r\n",
        "\r\n",
        "img_tensor = image.img_to_array(img)\r\n",
        "img_tensor = np.expand_dims(img_tensor, axis=0)\r\n",
        "img_tensor /= 255. #Modelimizi eğitirken normalize ediyoruz.\r\n",
        "\r\n",
        "y=model.predict(img_tensor)\r\n",
        "\r\n",
        "print(img_tensor.shape)"
      ],
      "execution_count": null,
      "outputs": [
        {
          "output_type": "stream",
          "text": [
            "(1, 32, 32, 3)\n"
          ],
          "name": "stdout"
        }
      ]
    },
    {
      "cell_type": "code",
      "metadata": {
        "colab": {
          "base_uri": "https://localhost:8080/",
          "height": 266
        },
        "id": "tjwGr5xx2qyY",
        "outputId": "38ffb334-d4c1-44b4-a028-334c0a860aa2"
      },
      "source": [
        "plt.imshow(img_tensor[0])\r\n",
        "plt.show()"
      ],
      "execution_count": null,
      "outputs": [
        {
          "output_type": "display_data",
          "data": {
            "image/png": "[encoded data removed]",
            "text/plain": [
              "<Figure size 432x288 with 1 Axes>"
            ]
          },
          "metadata": {
            "tags": [],
            "needs_background": "light"
          }
        }
      ]
    },
    {
      "cell_type": "code",
      "metadata": {
        "colab": {
          "base_uri": "https://localhost:8080/"
        },
        "id": "sCOoZmlJ2slS",
        "outputId": "be1e7653-d6e3-4acc-8ab0-35f90430476b"
      },
      "source": [
        "tahmin_indeks=np.argmax(y)\r\n",
        "tahmin_yuzde = y[0][tahmin_indeks]*100\r\n",
        "tahmin_yuzde"
      ],
      "execution_count": null,
      "outputs": [
        {
          "output_type": "execute_result",
          "data": {
            "text/plain": [
              "99.72568154335022"
            ]
          },
          "metadata": {
            "tags": []
          },
          "execution_count": 41
        }
      ]
    },
    {
      "cell_type": "code",
      "metadata": {
        "colab": {
          "base_uri": "https://localhost:8080/"
        },
        "id": "jdo6Bmoa2vY_",
        "outputId": "a14759d5-2930-465a-e904-4583037c0fa1"
      },
      "source": [
        "img = image.load_img('/content/balina.png',target_size=(32,32))\r\n",
        "\r\n",
        "img_tensor = image.img_to_array(img)\r\n",
        "img_tensor = np.expand_dims(img_tensor, axis=0)\r\n",
        "img_tensor /= 255. #Modelimizi eğitirken normalize ediyoruz.\r\n",
        "\r\n",
        "y=model.predict(img_tensor)\r\n",
        "\r\n",
        "print(img_tensor.shape)"
      ],
      "execution_count": null,
      "outputs": [
        {
          "output_type": "stream",
          "text": [
            "(1, 32, 32, 3)\n"
          ],
          "name": "stdout"
        }
      ]
    },
    {
      "cell_type": "code",
      "metadata": {
        "colab": {
          "base_uri": "https://localhost:8080/",
          "height": 266
        },
        "id": "HljPL0hj2zW5",
        "outputId": "c8403008-413e-4866-b680-be67e402689d"
      },
      "source": [
        "plt.imshow(img_tensor[0])\r\n",
        "plt.show()"
      ],
      "execution_count": null,
      "outputs": [
        {
          "output_type": "display_data",
          "data": {
            "image/png": "[encoded data removed]",
            "text/plain": [
              "<Figure size 432x288 with 1 Axes>"
            ]
          },
          "metadata": {
            "tags": [],
            "needs_background": "light"
          }
        }
      ]
    },
    {
      "cell_type": "code",
      "metadata": {
        "colab": {
          "base_uri": "https://localhost:8080/"
        },
        "id": "sYW-2mKP20v5",
        "outputId": "85724b8e-f2fc-4104-ea30-c84aff007e50"
      },
      "source": [
        "tahmin_indeks=np.argmax(y)\r\n",
        "tahmin_yuzde = y[0][tahmin_indeks]*100\r\n",
        "tahmin_yuzde"
      ],
      "execution_count": null,
      "outputs": [
        {
          "output_type": "execute_result",
          "data": {
            "text/plain": [
              "99.77638721466064"
            ]
          },
          "metadata": {
            "tags": []
          },
          "execution_count": 44
        }
      ]
    },
    {
      "cell_type": "code",
      "metadata": {
        "id": "ruKr9l-08fWT"
      },
      "source": [
        ""
      ],
      "execution_count": null,
      "outputs": []
    }
  ]
}